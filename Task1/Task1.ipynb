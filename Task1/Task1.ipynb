{
 "cells": [
  {
   "cell_type": "markdown",
   "id": "99418ea3-8f20-4445-8a6b-9a2829846baa",
   "metadata": {},
   "source": [
    "SOHAM SHAH"
   ]
  },
  {
   "cell_type": "markdown",
   "id": "55645c38-d7be-4665-9689-3be95b915a3c",
   "metadata": {},
   "source": [
    "Data Science & Business Analytics "
   ]
  },
  {
   "cell_type": "markdown",
   "id": "38461057-ce5a-4975-92fb-36f0fcca2f7f",
   "metadata": {},
   "source": [
    "PREDICTION USING SUPERVISED MACHINE LEARNING"
   ]
  },
  {
   "cell_type": "markdown",
   "id": "375fbd33-826a-4d2f-9eaf-0acdfea6845d",
   "metadata": {
    "tags": []
   },
   "source": [
    "PREDICT THE PERCENTAGE OF A STUDENT BASED ON NUMBER OF STUDY HOURS"
   ]
  },
  {
   "cell_type": "code",
   "execution_count": 1,
   "id": "588fb984-a47f-405e-85fe-57071895462b",
   "metadata": {
    "tags": []
   },
   "outputs": [],
   "source": [
    "#Importing all libraries required in this notebook\n",
    "import pandas as pd\n",
    "import numpy as np  \n",
    "import matplotlib.pyplot as plt  \n",
    "%matplotlib inline\n",
    "from sklearn import linear_model\n",
    "from sklearn.linear_model import LinearRegression"
   ]
  },
  {
   "cell_type": "markdown",
   "id": "774e5e16-5bca-4837-b2b2-9a44832126df",
   "metadata": {},
   "source": [
    "Step 1. Read data from Source"
   ]
  },
  {
   "cell_type": "code",
   "execution_count": 2,
   "id": "c78eb634-2690-4397-8f7b-427a052146c5",
   "metadata": {
    "tags": []
   },
   "outputs": [
    {
     "name": "stdout",
     "output_type": "stream",
     "text": [
      "Data imported successfully\n"
     ]
    },
    {
     "data": {
      "text/html": [
       "<div>\n",
       "<style scoped>\n",
       "    .dataframe tbody tr th:only-of-type {\n",
       "        vertical-align: middle;\n",
       "    }\n",
       "\n",
       "    .dataframe tbody tr th {\n",
       "        vertical-align: top;\n",
       "    }\n",
       "\n",
       "    .dataframe thead th {\n",
       "        text-align: right;\n",
       "    }\n",
       "</style>\n",
       "<table border=\"1\" class=\"dataframe\">\n",
       "  <thead>\n",
       "    <tr style=\"text-align: right;\">\n",
       "      <th></th>\n",
       "      <th>Hours</th>\n",
       "      <th>Scores</th>\n",
       "    </tr>\n",
       "  </thead>\n",
       "  <tbody>\n",
       "    <tr>\n",
       "      <th>0</th>\n",
       "      <td>2.5</td>\n",
       "      <td>21</td>\n",
       "    </tr>\n",
       "    <tr>\n",
       "      <th>1</th>\n",
       "      <td>5.1</td>\n",
       "      <td>47</td>\n",
       "    </tr>\n",
       "    <tr>\n",
       "      <th>2</th>\n",
       "      <td>3.2</td>\n",
       "      <td>27</td>\n",
       "    </tr>\n",
       "    <tr>\n",
       "      <th>3</th>\n",
       "      <td>8.5</td>\n",
       "      <td>75</td>\n",
       "    </tr>\n",
       "    <tr>\n",
       "      <th>4</th>\n",
       "      <td>3.5</td>\n",
       "      <td>30</td>\n",
       "    </tr>\n",
       "    <tr>\n",
       "      <th>5</th>\n",
       "      <td>1.5</td>\n",
       "      <td>20</td>\n",
       "    </tr>\n",
       "    <tr>\n",
       "      <th>6</th>\n",
       "      <td>9.2</td>\n",
       "      <td>88</td>\n",
       "    </tr>\n",
       "    <tr>\n",
       "      <th>7</th>\n",
       "      <td>5.5</td>\n",
       "      <td>60</td>\n",
       "    </tr>\n",
       "    <tr>\n",
       "      <th>8</th>\n",
       "      <td>8.3</td>\n",
       "      <td>81</td>\n",
       "    </tr>\n",
       "    <tr>\n",
       "      <th>9</th>\n",
       "      <td>2.7</td>\n",
       "      <td>25</td>\n",
       "    </tr>\n",
       "  </tbody>\n",
       "</table>\n",
       "</div>"
      ],
      "text/plain": [
       "   Hours  Scores\n",
       "0    2.5      21\n",
       "1    5.1      47\n",
       "2    3.2      27\n",
       "3    8.5      75\n",
       "4    3.5      30\n",
       "5    1.5      20\n",
       "6    9.2      88\n",
       "7    5.5      60\n",
       "8    8.3      81\n",
       "9    2.7      25"
      ]
     },
     "execution_count": 2,
     "metadata": {},
     "output_type": "execute_result"
    }
   ],
   "source": [
    "# This is Linear Regression using two Variables\n",
    "\n",
    "s_data = pd.read_csv(\"/Users/sohamshah/Downloads/Data.csv\")\n",
    "print(\"Data imported successfully\")\n",
    "s_data.head(10)"
   ]
  },
  {
   "cell_type": "markdown",
   "id": "fdda27dd-3ac5-4518-b762-be01157cbc39",
   "metadata": {},
   "source": [
    "Step 2. Input Data Visualization"
   ]
  },
  {
   "cell_type": "code",
   "execution_count": 3,
   "id": "9a88b206-1676-4bb2-9261-c8ccedb43f69",
   "metadata": {
    "tags": []
   },
   "outputs": [
    {
     "data": {
      "image/png": "[encoded data removed]",
      "text/plain": [
       "<Figure size 1000x600 with 1 Axes>"
      ]
     },
     "metadata": {},
     "output_type": "display_data"
    }
   ],
   "source": [
    "import pandas as pd\n",
    "import matplotlib.pyplot as plt\n",
    "import seaborn as sns\n",
    "plt.figure(figsize=(10, 6))\n",
    "sns.scatterplot(data=s_data, x='Hours', y='Scores', color='blue', marker='o')\n",
    "\n",
    "# Adding title and labels\n",
    "plt.title('Relationship between Hours Studied and Scores')\n",
    "plt.xlabel('Hours Studied')\n",
    "plt.ylabel('Scores')\n",
    "\n",
    "# Adding a grid for better readability\n",
    "plt.grid(True)\n",
    "\n",
    "# Show the plot\n",
    "plt.show()"
   ]
  },
  {
   "cell_type": "markdown",
   "id": "1f31afc2-1856-4c5f-9756-11305502b1e6",
   "metadata": {
    "tags": []
   },
   "source": [
    "Step 3. Data Preprocessing"
   ]
  },
  {
   "cell_type": "code",
   "execution_count": 4,
   "id": "9793110f-71fd-433a-82f6-87ed96432f65",
   "metadata": {
    "tags": []
   },
   "outputs": [],
   "source": [
    "A = s_data.iloc[:, :-1].values \n",
    "B = s_data.iloc[:, 1].values  "
   ]
  },
  {
   "cell_type": "markdown",
   "id": "7c3c22da-a925-49dc-994e-afa7241dbed6",
   "metadata": {},
   "source": [
    "Step 4. Training the Model by splitting into training and testing sets and training the Algorithm"
   ]
  },
  {
   "cell_type": "code",
   "execution_count": 5,
   "id": "b7da0bd7-eda1-4dfe-8ec6-c9dc43d5f6e0",
   "metadata": {
    "tags": []
   },
   "outputs": [],
   "source": [
    "from sklearn.model_selection import train_test_split  \n",
    "A_train, A_test, B_train, B_test = train_test_split(A, B, \n",
    "                            test_size=0.2, random_state=0) "
   ]
  },
  {
   "cell_type": "code",
   "execution_count": 6,
   "id": "5c6dc3dc-e8c6-4ddf-b080-60ae71ec0442",
   "metadata": {
    "tags": []
   },
   "outputs": [
    {
     "name": "stdout",
     "output_type": "stream",
     "text": [
      "Training complete.\n"
     ]
    }
   ],
   "source": [
    "from sklearn.linear_model import LinearRegression  \n",
    "regressor = LinearRegression()  \n",
    "regressor.fit(A_train.reshape(-1,1) , B_train) \n",
    "\n",
    "print(\"Training complete.\")"
   ]
  },
  {
   "cell_type": "markdown",
   "id": "110c09b5-ed88-4130-b63a-259ecf221d8d",
   "metadata": {
    "tags": []
   },
   "source": [
    "Step 5. Plot a graph for Linear Regression"
   ]
  },
  {
   "cell_type": "code",
   "execution_count": 7,
   "id": "3fa25eff-2ba2-43e2-ad33-149fd6c1dc0e",
   "metadata": {
    "tags": []
   },
   "outputs": [
    {
     "data": {
      "image/png": "[encoded data removed]",
      "text/plain": [
       "<Figure size 640x480 with 1 Axes>"
      ]
     },
     "metadata": {},
     "output_type": "display_data"
    }
   ],
   "source": [
    "import matplotlib.pyplot as plt\n",
    "\n",
    "# Plot the test data points\n",
    "plt.scatter(A_test, B_test, color='red', label='Test data')\n",
    "\n",
    "# Predicting the scores for the test data\n",
    "B_pred = regressor.predict(A_test.reshape(-1,1))\n",
    "\n",
    "# Plot the regression line\n",
    "plt.plot(A_test, B_pred, color='blue', label='Regression Line')\n",
    "\n",
    "# now Adding title and labels\n",
    "plt.title('Hours vs Scores (Test set)')\n",
    "plt.xlabel('Hours Studied')\n",
    "plt.ylabel('Scores')\n",
    "\n",
    "# Add legend\n",
    "plt.legend()\n",
    "\n",
    "# Showcasing the plot\n",
    "plt.show()\n"
   ]
  },
  {
   "cell_type": "markdown",
   "id": "7a2658f7-8fc2-4d7c-8fc6-8a9944761de0",
   "metadata": {},
   "source": [
    "Step 6. Make Predictions"
   ]
  },
  {
   "cell_type": "code",
   "execution_count": 8,
   "id": "2fc51759-cf17-44d0-92ae-08585163a990",
   "metadata": {
    "tags": []
   },
   "outputs": [
    {
     "name": "stdout",
     "output_type": "stream",
     "text": [
      "[[1.5]\n",
      " [3.2]\n",
      " [7.4]\n",
      " [2.5]\n",
      " [5.9]]\n"
     ]
    }
   ],
   "source": [
    "print(A_test)\n",
    "B_pred = regressor.predict(A_test)"
   ]
  },
  {
   "cell_type": "markdown",
   "id": "b1d0fcb1-d6c3-49af-bc30-6907d1bde4a6",
   "metadata": {},
   "source": [
    "Step 7. Comparing Actual result to Predicted Result "
   ]
  },
  {
   "cell_type": "code",
   "execution_count": 9,
   "id": "6b13741d-4e44-4253-a136-09d97f254c9a",
   "metadata": {
    "tags": []
   },
   "outputs": [
    {
     "data": {
      "text/html": [
       "<div>\n",
       "<style scoped>\n",
       "    .dataframe tbody tr th:only-of-type {\n",
       "        vertical-align: middle;\n",
       "    }\n",
       "\n",
       "    .dataframe tbody tr th {\n",
       "        vertical-align: top;\n",
       "    }\n",
       "\n",
       "    .dataframe thead th {\n",
       "        text-align: right;\n",
       "    }\n",
       "</style>\n",
       "<table border=\"1\" class=\"dataframe\">\n",
       "  <thead>\n",
       "    <tr style=\"text-align: right;\">\n",
       "      <th></th>\n",
       "      <th>Actual</th>\n",
       "      <th>Predicted</th>\n",
       "    </tr>\n",
       "  </thead>\n",
       "  <tbody>\n",
       "    <tr>\n",
       "      <th>0</th>\n",
       "      <td>20</td>\n",
       "      <td>16.884145</td>\n",
       "    </tr>\n",
       "    <tr>\n",
       "      <th>1</th>\n",
       "      <td>27</td>\n",
       "      <td>33.732261</td>\n",
       "    </tr>\n",
       "    <tr>\n",
       "      <th>2</th>\n",
       "      <td>69</td>\n",
       "      <td>75.357018</td>\n",
       "    </tr>\n",
       "    <tr>\n",
       "      <th>3</th>\n",
       "      <td>30</td>\n",
       "      <td>26.794801</td>\n",
       "    </tr>\n",
       "    <tr>\n",
       "      <th>4</th>\n",
       "      <td>62</td>\n",
       "      <td>60.491033</td>\n",
       "    </tr>\n",
       "  </tbody>\n",
       "</table>\n",
       "</div>"
      ],
      "text/plain": [
       "   Actual  Predicted\n",
       "0      20  16.884145\n",
       "1      27  33.732261\n",
       "2      69  75.357018\n",
       "3      30  26.794801\n",
       "4      62  60.491033"
      ]
     },
     "execution_count": 9,
     "metadata": {},
     "output_type": "execute_result"
    }
   ],
   "source": [
    "# Comparing Actual vs Predicted\n",
    "df = pd.DataFrame({'Actual': B_test, 'Predicted': B_pred})  \n",
    "df "
   ]
  },
  {
   "cell_type": "code",
   "execution_count": 10,
   "id": "8bcc7278-fb11-47e5-bdbb-1f9a7ff388f4",
   "metadata": {
    "tags": []
   },
   "outputs": [
    {
     "name": "stdout",
     "output_type": "stream",
     "text": [
      "Training Score: 0.9515510725211552\n",
      "Test Score: 0.9454906892105356\n"
     ]
    }
   ],
   "source": [
    "# Estimating training and test score\n",
    "\n",
    "print(\"Training Score:\" , regressor.score(A_train,B_train))\n",
    "print(\"Test Score:\" , regressor.score(A_test,B_test))"
   ]
  },
  {
   "cell_type": "code",
   "execution_count": 11,
   "id": "4782f4a1-a55f-41ec-9f2d-458f9a45e0b5",
   "metadata": {
    "tags": []
   },
   "outputs": [
    {
     "data": {
      "image/png": "[encoded data removed]",
      "text/plain": [
       "<Figure size 1000x500 with 1 Axes>"
      ]
     },
     "metadata": {},
     "output_type": "display_data"
    }
   ],
   "source": [
    "#Plotting Bar Graph between the actual and predicted values\n",
    "\n",
    "df.plot(kind='bar', figsize=(10, 5), color=['red', 'blue'])\n",
    "plt.title('Bar Graph of Actual vs. Predicted Scores')\n",
    "plt.xlabel('Index')\n",
    "plt.ylabel('Scores')\n",
    "plt.legend()\n",
    "plt.show()"
   ]
  },
  {
   "cell_type": "code",
   "execution_count": 12,
   "id": "b01a3709-5cb2-4f69-9b10-0107131ed7f7",
   "metadata": {
    "tags": []
   },
   "outputs": [
    {
     "name": "stdout",
     "output_type": "stream",
     "text": [
      "No of Hours = 9.25\n",
      "Predicted Score = 93.69173248737538\n"
     ]
    }
   ],
   "source": [
    "# You can also test with your own data\n",
    "hours = 9.25\n",
    "own_pred = regressor.predict([[hours]])\n",
    "print(\"No of Hours = {}\".format(hours))\n",
    "print(\"Predicted Score = {}\".format(own_pred[0]))"
   ]
  },
  {
   "cell_type": "markdown",
   "id": "ba4169c2-8584-411e-8fbf-3b30d81207dd",
   "metadata": {},
   "source": [
    "Thank You!!!"
   ]
  },
  {
   "cell_type": "code",
   "execution_count": null,
   "id": "de4a906e-ceae-45ff-8452-199316e234ae",
   "metadata": {},
   "outputs": [],
   "source": []
  },
  {
   "cell_type": "code",
   "execution_count": null,
   "id": "e1aca534-51a7-4385-ab02-caf0ca893baf",
   "metadata": {},
   "outputs": [],
   "source": []
  }
 ],
 "metadata": {
  "kernelspec": {
   "display_name": "Python 3 (ipykernel)",
   "language": "python",
   "name": "python3"
  },
  "language_info": {
   "codemirror_mode": {
    "name": "ipython",
    "version": 3
   },
   "file_extension": ".py",
   "mimetype": "text/x-python",
   "name": "python",
   "nbconvert_exporter": "python",
   "pygments_lexer": "ipython3",
   "version": "3.11.5"
  }
 },
 "nbformat": 4,
 "nbformat_minor": 5
}
